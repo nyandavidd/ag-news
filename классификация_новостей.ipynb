{
  "cells": [
    {
      "cell_type": "code",
      "execution_count": null,
      "metadata": {
        "colab": {
          "background_save": true
        },
        "id": "vrZQZYA6AO5L"
      },
      "outputs": [],
      "source": [
        "from google.colab import files\n",
        "files.upload()"
      ]
    },
    {
      "cell_type": "code",
      "execution_count": null,
      "metadata": {
        "colab": {
          "base_uri": "https://localhost:8080/",
          "height": 206
        },
        "id": "GvV4n8MTekZq",
        "outputId": "6830357d-0775-4739-9ed8-97980e1cb561"
      },
      "outputs": [
        {
          "output_type": "execute_result",
          "data": {
            "text/plain": [
              "   category                                            content\n",
              "0        IT   webify helps insurance carriers stretch legac...\n",
              "1  business   update 1 thursday #39 s commodities roundup ,...\n",
              "2  business   california regulator is suing four insurers a...\n",
              "3     crime   mexico fta paves way for asian trade agreemen...\n",
              "4     sport   t amp t , costa rica through , angus eve scor..."
            ],
            "text/html": [
              "\n",
              "  <div id=\"df-152dfbf6-6298-4950-84dc-cc7111ad95c6\" class=\"colab-df-container\">\n",
              "    <div>\n",
              "<style scoped>\n",
              "    .dataframe tbody tr th:only-of-type {\n",
              "        vertical-align: middle;\n",
              "    }\n",
              "\n",
              "    .dataframe tbody tr th {\n",
              "        vertical-align: top;\n",
              "    }\n",
              "\n",
              "    .dataframe thead th {\n",
              "        text-align: right;\n",
              "    }\n",
              "</style>\n",
              "<table border=\"1\" class=\"dataframe\">\n",
              "  <thead>\n",
              "    <tr style=\"text-align: right;\">\n",
              "      <th></th>\n",
              "      <th>category</th>\n",
              "      <th>content</th>\n",
              "    </tr>\n",
              "  </thead>\n",
              "  <tbody>\n",
              "    <tr>\n",
              "      <th>0</th>\n",
              "      <td>IT</td>\n",
              "      <td>webify helps insurance carriers stretch legac...</td>\n",
              "    </tr>\n",
              "    <tr>\n",
              "      <th>1</th>\n",
              "      <td>business</td>\n",
              "      <td>update 1 thursday #39 s commodities roundup ,...</td>\n",
              "    </tr>\n",
              "    <tr>\n",
              "      <th>2</th>\n",
              "      <td>business</td>\n",
              "      <td>california regulator is suing four insurers a...</td>\n",
              "    </tr>\n",
              "    <tr>\n",
              "      <th>3</th>\n",
              "      <td>crime</td>\n",
              "      <td>mexico fta paves way for asian trade agreemen...</td>\n",
              "    </tr>\n",
              "    <tr>\n",
              "      <th>4</th>\n",
              "      <td>sport</td>\n",
              "      <td>t amp t , costa rica through , angus eve scor...</td>\n",
              "    </tr>\n",
              "  </tbody>\n",
              "</table>\n",
              "</div>\n",
              "    <div class=\"colab-df-buttons\">\n",
              "\n",
              "  <div class=\"colab-df-container\">\n",
              "    <button class=\"colab-df-convert\" onclick=\"convertToInteractive('df-152dfbf6-6298-4950-84dc-cc7111ad95c6')\"\n",
              "            title=\"Convert this dataframe to an interactive table.\"\n",
              "            style=\"display:none;\">\n",
              "\n",
              "  <svg xmlns=\"http://www.w3.org/2000/svg\" height=\"24px\" viewBox=\"0 -960 960 960\">\n",
              "    <path d=\"M120-120v-720h720v720H120Zm60-500h600v-160H180v160Zm220 220h160v-160H400v160Zm0 220h160v-160H400v160ZM180-400h160v-160H180v160Zm440 0h160v-160H620v160ZM180-180h160v-160H180v160Zm440 0h160v-160H620v160Z\"/>\n",
              "  </svg>\n",
              "    </button>\n",
              "\n",
              "  <style>\n",
              "    .colab-df-container {\n",
              "      display:flex;\n",
              "      gap: 12px;\n",
              "    }\n",
              "\n",
              "    .colab-df-convert {\n",
              "      background-color: #E8F0FE;\n",
              "      border: none;\n",
              "      border-radius: 50%;\n",
              "      cursor: pointer;\n",
              "      display: none;\n",
              "      fill: #1967D2;\n",
              "      height: 32px;\n",
              "      padding: 0 0 0 0;\n",
              "      width: 32px;\n",
              "    }\n",
              "\n",
              "    .colab-df-convert:hover {\n",
              "      background-color: #E2EBFA;\n",
              "      box-shadow: 0px 1px 2px rgba(60, 64, 67, 0.3), 0px 1px 3px 1px rgba(60, 64, 67, 0.15);\n",
              "      fill: #174EA6;\n",
              "    }\n",
              "\n",
              "    .colab-df-buttons div {\n",
              "      margin-bottom: 4px;\n",
              "    }\n",
              "\n",
              "    [theme=dark] .colab-df-convert {\n",
              "      background-color: #3B4455;\n",
              "      fill: #D2E3FC;\n",
              "    }\n",
              "\n",
              "    [theme=dark] .colab-df-convert:hover {\n",
              "      background-color: #434B5C;\n",
              "      box-shadow: 0px 1px 3px 1px rgba(0, 0, 0, 0.15);\n",
              "      filter: drop-shadow(0px 1px 2px rgba(0, 0, 0, 0.3));\n",
              "      fill: #FFFFFF;\n",
              "    }\n",
              "  </style>\n",
              "\n",
              "    <script>\n",
              "      const buttonEl =\n",
              "        document.querySelector('#df-152dfbf6-6298-4950-84dc-cc7111ad95c6 button.colab-df-convert');\n",
              "      buttonEl.style.display =\n",
              "        google.colab.kernel.accessAllowed ? 'block' : 'none';\n",
              "\n",
              "      async function convertToInteractive(key) {\n",
              "        const element = document.querySelector('#df-152dfbf6-6298-4950-84dc-cc7111ad95c6');\n",
              "        const dataTable =\n",
              "          await google.colab.kernel.invokeFunction('convertToInteractive',\n",
              "                                                    [key], {});\n",
              "        if (!dataTable) return;\n",
              "\n",
              "        const docLinkHtml = 'Like what you see? Visit the ' +\n",
              "          '<a target=\"_blank\" href=https://colab.research.google.com/notebooks/data_table.ipynb>data table notebook</a>'\n",
              "          + ' to learn more about interactive tables.';\n",
              "        element.innerHTML = '';\n",
              "        dataTable['output_type'] = 'display_data';\n",
              "        await google.colab.output.renderOutput(dataTable, element);\n",
              "        const docLink = document.createElement('div');\n",
              "        docLink.innerHTML = docLinkHtml;\n",
              "        element.appendChild(docLink);\n",
              "      }\n",
              "    </script>\n",
              "  </div>\n",
              "\n",
              "\n",
              "<div id=\"df-e5dccbfd-34ed-4885-8147-2e18b811a672\">\n",
              "  <button class=\"colab-df-quickchart\" onclick=\"quickchart('df-e5dccbfd-34ed-4885-8147-2e18b811a672')\"\n",
              "            title=\"Suggest charts\"\n",
              "            style=\"display:none;\">\n",
              "\n",
              "<svg xmlns=\"http://www.w3.org/2000/svg\" height=\"24px\"viewBox=\"0 0 24 24\"\n",
              "     width=\"24px\">\n",
              "    <g>\n",
              "        <path d=\"M19 3H5c-1.1 0-2 .9-2 2v14c0 1.1.9 2 2 2h14c1.1 0 2-.9 2-2V5c0-1.1-.9-2-2-2zM9 17H7v-7h2v7zm4 0h-2V7h2v10zm4 0h-2v-4h2v4z\"/>\n",
              "    </g>\n",
              "</svg>\n",
              "  </button>\n",
              "\n",
              "<style>\n",
              "  .colab-df-quickchart {\n",
              "      --bg-color: #E8F0FE;\n",
              "      --fill-color: #1967D2;\n",
              "      --hover-bg-color: #E2EBFA;\n",
              "      --hover-fill-color: #174EA6;\n",
              "      --disabled-fill-color: #AAA;\n",
              "      --disabled-bg-color: #DDD;\n",
              "  }\n",
              "\n",
              "  [theme=dark] .colab-df-quickchart {\n",
              "      --bg-color: #3B4455;\n",
              "      --fill-color: #D2E3FC;\n",
              "      --hover-bg-color: #434B5C;\n",
              "      --hover-fill-color: #FFFFFF;\n",
              "      --disabled-bg-color: #3B4455;\n",
              "      --disabled-fill-color: #666;\n",
              "  }\n",
              "\n",
              "  .colab-df-quickchart {\n",
              "    background-color: var(--bg-color);\n",
              "    border: none;\n",
              "    border-radius: 50%;\n",
              "    cursor: pointer;\n",
              "    display: none;\n",
              "    fill: var(--fill-color);\n",
              "    height: 32px;\n",
              "    padding: 0;\n",
              "    width: 32px;\n",
              "  }\n",
              "\n",
              "  .colab-df-quickchart:hover {\n",
              "    background-color: var(--hover-bg-color);\n",
              "    box-shadow: 0 1px 2px rgba(60, 64, 67, 0.3), 0 1px 3px 1px rgba(60, 64, 67, 0.15);\n",
              "    fill: var(--button-hover-fill-color);\n",
              "  }\n",
              "\n",
              "  .colab-df-quickchart-complete:disabled,\n",
              "  .colab-df-quickchart-complete:disabled:hover {\n",
              "    background-color: var(--disabled-bg-color);\n",
              "    fill: var(--disabled-fill-color);\n",
              "    box-shadow: none;\n",
              "  }\n",
              "\n",
              "  .colab-df-spinner {\n",
              "    border: 2px solid var(--fill-color);\n",
              "    border-color: transparent;\n",
              "    border-bottom-color: var(--fill-color);\n",
              "    animation:\n",
              "      spin 1s steps(1) infinite;\n",
              "  }\n",
              "\n",
              "  @keyframes spin {\n",
              "    0% {\n",
              "      border-color: transparent;\n",
              "      border-bottom-color: var(--fill-color);\n",
              "      border-left-color: var(--fill-color);\n",
              "    }\n",
              "    20% {\n",
              "      border-color: transparent;\n",
              "      border-left-color: var(--fill-color);\n",
              "      border-top-color: var(--fill-color);\n",
              "    }\n",
              "    30% {\n",
              "      border-color: transparent;\n",
              "      border-left-color: var(--fill-color);\n",
              "      border-top-color: var(--fill-color);\n",
              "      border-right-color: var(--fill-color);\n",
              "    }\n",
              "    40% {\n",
              "      border-color: transparent;\n",
              "      border-right-color: var(--fill-color);\n",
              "      border-top-color: var(--fill-color);\n",
              "    }\n",
              "    60% {\n",
              "      border-color: transparent;\n",
              "      border-right-color: var(--fill-color);\n",
              "    }\n",
              "    80% {\n",
              "      border-color: transparent;\n",
              "      border-right-color: var(--fill-color);\n",
              "      border-bottom-color: var(--fill-color);\n",
              "    }\n",
              "    90% {\n",
              "      border-color: transparent;\n",
              "      border-bottom-color: var(--fill-color);\n",
              "    }\n",
              "  }\n",
              "</style>\n",
              "\n",
              "  <script>\n",
              "    async function quickchart(key) {\n",
              "      const quickchartButtonEl =\n",
              "        document.querySelector('#' + key + ' button');\n",
              "      quickchartButtonEl.disabled = true;  // To prevent multiple clicks.\n",
              "      quickchartButtonEl.classList.add('colab-df-spinner');\n",
              "      try {\n",
              "        const charts = await google.colab.kernel.invokeFunction(\n",
              "            'suggestCharts', [key], {});\n",
              "      } catch (error) {\n",
              "        console.error('Error during call to suggestCharts:', error);\n",
              "      }\n",
              "      quickchartButtonEl.classList.remove('colab-df-spinner');\n",
              "      quickchartButtonEl.classList.add('colab-df-quickchart-complete');\n",
              "    }\n",
              "    (() => {\n",
              "      let quickchartButtonEl =\n",
              "        document.querySelector('#df-e5dccbfd-34ed-4885-8147-2e18b811a672 button');\n",
              "      quickchartButtonEl.style.display =\n",
              "        google.colab.kernel.accessAllowed ? 'block' : 'none';\n",
              "    })();\n",
              "  </script>\n",
              "</div>\n",
              "    </div>\n",
              "  </div>\n"
            ],
            "application/vnd.google.colaboratory.intrinsic+json": {
              "type": "dataframe",
              "variable_name": "data"
            }
          },
          "metadata": {},
          "execution_count": 4
        }
      ],
      "source": [
        "import pandas as pd\n",
        "data = pd.read_csv(\"ag_news.csv\", sep=';')\n",
        "data.head()"
      ]
    },
    {
      "cell_type": "code",
      "execution_count": null,
      "metadata": {
        "id": "lgA5TvIXfKY1",
        "colab": {
          "base_uri": "https://localhost:8080/"
        },
        "outputId": "b77f10ab-cfc2-4f2d-9ae2-22d7e81237ad"
      },
      "outputs": [
        {
          "output_type": "stream",
          "name": "stdout",
          "text": [
            "category    object\n",
            "content     object\n",
            "dtype: object\n"
          ]
        }
      ],
      "source": [
        "print(data.dtypes)"
      ]
    },
    {
      "cell_type": "code",
      "execution_count": null,
      "metadata": {
        "id": "PcKenAE7TR46"
      },
      "outputs": [],
      "source": [
        "data[\"category\"] = data[\"category\"].astype('category')\n",
        "data[\"category\"] = data[\"category\"].cat.codes"
      ]
    },
    {
      "cell_type": "code",
      "execution_count": null,
      "metadata": {
        "id": "pFTjr1oMfOOc",
        "colab": {
          "base_uri": "https://localhost:8080/"
        },
        "outputId": "744684f4-e3b0-4ff1-f233-72e56cd821ff"
      },
      "outputs": [
        {
          "output_type": "execute_result",
          "data": {
            "text/plain": [
              "[]"
            ]
          },
          "metadata": {},
          "execution_count": 7
        }
      ],
      "source": [
        "data.columns[data.isna().any()].tolist()"
      ]
    },
    {
      "cell_type": "markdown",
      "metadata": {
        "id": "0Ng03gkcfpgG"
      },
      "source": [
        "Выделяем выходные данные:"
      ]
    },
    {
      "cell_type": "code",
      "execution_count": null,
      "metadata": {
        "id": "WCUFqz_0fWzU"
      },
      "outputs": [],
      "source": [
        "y = data[\"category\"] #DataFrame\n",
        "data = data['content'] #DataFrame"
      ]
    },
    {
      "cell_type": "code",
      "execution_count": null,
      "metadata": {
        "id": "MVdVIRLwPkd6"
      },
      "outputs": [],
      "source": [
        "from sklearn.model_selection import train_test_split\n",
        "data_train, data_test, y_train, y_test = train_test_split(data, y, test_size=0.3)"
      ]
    },
    {
      "cell_type": "markdown",
      "metadata": {
        "id": "mD39dCkGhqa0"
      },
      "source": [
        "На основе тренировочных данных составляем словарь (выписываем все слова, которые встречаются во всех тренировочных текстах). Тестовые данные, как обычно, не трогаем."
      ]
    },
    {
      "cell_type": "code",
      "execution_count": null,
      "metadata": {
        "id": "JpImL9Y9ciwn"
      },
      "outputs": [],
      "source": [
        "from torchtext.data.utils import get_tokenizer\n",
        "from torchtext.vocab import build_vocab_from_iterator\n",
        "\n",
        "tokenizer = get_tokenizer('basic_english')\n",
        "\n",
        "def yield_tokens(data_train):\n",
        "  for text in data_train:\n",
        "    yield tokenizer(text)\n",
        "\n",
        "vocab = build_vocab_from_iterator(yield_tokens(data_train), specials=[\"<unk>\"])\n",
        "vocab.set_default_index(vocab[\"<unk>\"])  # какой индекс нужно вернуть, если слово не найдено в словаре"
      ]
    },
    {
      "cell_type": "code",
      "execution_count": null,
      "metadata": {
        "id": "n2hFJDQuIIgA"
      },
      "outputs": [],
      "source": [
        "def f():\n",
        "  for i in [1,6,2,7]:\n",
        "    yield i  # -> откладывает значения i для возврата, по окончанию работы функции возвращает последовательность всех значений"
      ]
    },
    {
      "cell_type": "code",
      "execution_count": null,
      "metadata": {
        "id": "qShx3YK6IWdd",
        "colab": {
          "base_uri": "https://localhost:8080/"
        },
        "outputId": "65cf2c70-e25a-4271-ff2c-4dae43c4e560"
      },
      "outputs": [
        {
          "output_type": "execute_result",
          "data": {
            "text/plain": [
              "[1, 6, 2, 7]"
            ]
          },
          "metadata": {},
          "execution_count": 12
        }
      ],
      "source": [
        "list(f())"
      ]
    },
    {
      "cell_type": "markdown",
      "metadata": {
        "id": "GBw3GEYMkw8q"
      },
      "source": [
        "unk означает unknown token"
      ]
    },
    {
      "cell_type": "markdown",
      "metadata": {
        "id": "ujMjd86GiDd0"
      },
      "source": [
        "vocab - это хитрая штука, не просто набор данных. Пример работы vocab:"
      ]
    },
    {
      "cell_type": "code",
      "execution_count": null,
      "metadata": {
        "id": "iMtqE4X0iIjG",
        "colab": {
          "base_uri": "https://localhost:8080/"
        },
        "outputId": "8e672ecf-b0df-4ee1-ccd4-b70aa038236c"
      },
      "outputs": [
        {
          "output_type": "execute_result",
          "data": {
            "text/plain": [
              "[2879, 278, 234, 10747, 27047]"
            ]
          },
          "metadata": {},
          "execution_count": 13
        }
      ],
      "source": [
        "vocab(['feel', 'i', 'say', 'hello', 'hi'])"
      ]
    },
    {
      "cell_type": "code",
      "execution_count": null,
      "metadata": {
        "id": "_rR5Pc__f9K5"
      },
      "outputs": [],
      "source": [
        "from torch.utils.data import Dataset\n",
        "\n",
        "class TextDataset(Dataset):\n",
        "    def __init__(self, data_text, y):\n",
        "        self.data = data_text\n",
        "        self.y = y\n",
        "    def __len__(self):   # len(trainset)\n",
        "        return len(self.data)\n",
        "\n",
        "    def __getitem__(self, idx):\n",
        "        label = self.y.iloc[idx]  # .iloc потому, что y на самом деле имеет тип не list, а DataFrame\n",
        "        sentence = vocab(tokenizer(self.data.iloc[idx]))  # .iloc потому, что y на самом деле имеет тип не list, а DataFrame\n",
        "        return sentence, label"
      ]
    },
    {
      "cell_type": "code",
      "execution_count": null,
      "metadata": {
        "id": "ZutmsjWqobhi"
      },
      "outputs": [],
      "source": [
        "trainset = TextDataset(data_text=data_train, y=y_train)\n",
        "testset = TextDataset(data_text=data_test, y=y_test)"
      ]
    },
    {
      "cell_type": "code",
      "execution_count": null,
      "metadata": {
        "id": "ii26Cp6jzZQl"
      },
      "outputs": [],
      "source": [
        "def collate_batch(batch):\n",
        "    label_list, text_list, offsets = [], [], [0]\n",
        "    for (_text, _label) in batch:\n",
        "         label_list.append(_label)\n",
        "         processed_text = torch.tensor(_text, dtype=torch.int64)\n",
        "         text_list.append(processed_text)\n",
        "         offsets.append(processed_text.size(0))\n",
        "    label_list = torch.tensor(label_list, dtype=torch.int64)\n",
        "    offsets = torch.tensor(offsets[:-1]).cumsum(dim=0)\n",
        "    text_list = torch.cat(text_list)\n",
        "    return label_list, text_list, offsets"
      ]
    },
    {
      "cell_type": "code",
      "execution_count": null,
      "metadata": {
        "id": "kKOWspttooYh"
      },
      "outputs": [],
      "source": [
        "from torch.utils.data import DataLoader\n",
        "trainloader = DataLoader(trainset, batch_size=8, shuffle=False,\n",
        "                         collate_fn=collate_batch)\n",
        "\n",
        "testloader = DataLoader(testset, batch_size=8, shuffle=False,\n",
        "                        collate_fn=collate_batch)"
      ]
    },
    {
      "cell_type": "code",
      "execution_count": null,
      "metadata": {
        "id": "wuTY7Z4fcvzw",
        "colab": {
          "base_uri": "https://localhost:8080/"
        },
        "outputId": "c7ee6c5a-09a8-441b-d048-f61b390d2054"
      },
      "outputs": [
        {
          "output_type": "stream",
          "name": "stdout",
          "text": [
            "Кол-во классов:  4\n",
            "Размер словаря:  81125\n"
          ]
        }
      ],
      "source": [
        "import torch\n",
        "num_class = len(set(y_train))\n",
        "vocab_size = len(vocab)\n",
        "print(\"Кол-во классов: \", num_class)\n",
        "print(\"Размер словаря: \", vocab_size)"
      ]
    },
    {
      "cell_type": "markdown",
      "metadata": {
        "id": "WL2Y4zPVpIgh"
      },
      "source": [
        "Создадим нейронную сеть:"
      ]
    },
    {
      "cell_type": "code",
      "execution_count": null,
      "metadata": {
        "id": "FUpkhge9csuI"
      },
      "outputs": [],
      "source": [
        "from torch import nn\n",
        "\n",
        "class TextClassificationModel(nn.Module):\n",
        "    def __init__(self):\n",
        "        super(TextClassificationModel, self).__init__()\n",
        "        self.bag = nn.EmbeddingBag(vocab_size, 256, sparse=True)  # слой-матрица размером 81125 x 64, 81125 - такое количество слов в слловаре\n",
        "        self.lin = nn.Linear(256, 4)  # на вход подаётся 64 числа - выход от self.bag, слой выдаёт 4 числа - вероятность каждой новости, их 4 типа\n",
        "\n",
        "    def forward(self, text, offsets):\n",
        "        return self.lin(self.bag(text, offsets))"
      ]
    },
    {
      "cell_type": "code",
      "execution_count": null,
      "metadata": {
        "id": "KJqufQKIY9ap"
      },
      "outputs": [],
      "source": [
        "net = TextClassificationModel()"
      ]
    },
    {
      "cell_type": "code",
      "execution_count": null,
      "metadata": {
        "id": "AVXmuRzNiHa2",
        "colab": {
          "base_uri": "https://localhost:8080/"
        },
        "outputId": "8055d8bd-91cd-4e39-bc1c-825767cab597"
      },
      "outputs": [
        {
          "output_type": "execute_result",
          "data": {
            "text/plain": [
              "TextClassificationModel(\n",
              "  (bag): EmbeddingBag(81125, 256, mode='mean')\n",
              "  (lin): Linear(in_features=256, out_features=4, bias=True)\n",
              ")"
            ]
          },
          "metadata": {},
          "execution_count": 45
        }
      ],
      "source": [
        "device = 'cuda:0'\n",
        "net.to(device)"
      ]
    },
    {
      "cell_type": "code",
      "execution_count": null,
      "metadata": {
        "id": "AvKN_ZYqq1HX"
      },
      "outputs": [],
      "source": [
        "import torch.optim as optim\n",
        "# В качестве cost function используем кросс-энтропию\n",
        "criterion = nn.CrossEntropyLoss()\n",
        "# В качестве оптимизатора - стохастический градиентный спуск\n",
        "optimizer = optim.SGD(net.parameters(), lr= 0.5 )"
      ]
    },
    {
      "cell_type": "code",
      "execution_count": null,
      "metadata": {
        "id": "KMs0xouiq8qQ",
        "colab": {
          "base_uri": "https://localhost:8080/"
        },
        "outputId": "4b70cb8a-6eab-49c5-cec2-04e8ef4c846e"
      },
      "outputs": [
        {
          "output_type": "stream",
          "name": "stdout",
          "text": [
            "[1, 10000] loss: 0.630 accuracy: 0.767\n",
            "[2, 10000] loss: 0.423 accuracy: 0.854\n",
            "[3, 10000] loss: 0.363 accuracy: 0.877\n",
            "[4, 10000] loss: 0.328 accuracy: 0.890\n",
            "[5, 10000] loss: 0.303 accuracy: 0.898\n",
            "Finished Training\n"
          ]
        }
      ],
      "source": [
        "losses = []\n",
        "running_corrects = 0\n",
        "net.train(True)\n",
        "for epoch in range(5):\n",
        "    running_loss = 0.0\n",
        "    running_corrects = 0.0\n",
        "    for i, data in enumerate(trainloader, 0):\n",
        "        labels, inputs, offsets = data\n",
        "        labels = labels.to(device)\n",
        "        inputs = inputs.to(device)\n",
        "        offsets = offsets.to(device)\n",
        "\n",
        "        optimizer.zero_grad()\n",
        "        outputs = net(inputs, offsets) #\n",
        "        _, preds = torch.max(outputs.data, 1)\n",
        "        loss = criterion(outputs, labels)\n",
        "        loss.backward()\n",
        "        optimizer.step()\n",
        "\n",
        "        running_loss += loss.item()\n",
        "        running_corrects += int(torch.sum(preds == labels.data)) / len(labels)\n",
        "        if i % 10000 == 9999: #\n",
        "          print('[%d, %5d] loss: %.3f accuracy: %.3f' % (\n",
        "              epoch + 1, i + 1, running_loss/10000, running_corrects/10000 )) #\n",
        "\n",
        "          losses += [running_loss/10000]\n",
        "          running_loss = 0.0\n",
        "          running_corrects = 0.0\n",
        "\n",
        "print('Finished Training')"
      ]
    },
    {
      "cell_type": "code",
      "execution_count": null,
      "metadata": {
        "id": "bMHeRjLBJtMf",
        "colab": {
          "base_uri": "https://localhost:8080/"
        },
        "outputId": "74c4756d-c2bc-4888-eed4-ffb53d53d385"
      },
      "outputs": [
        {
          "output_type": "stream",
          "name": "stdout",
          "text": [
            "0.8770277777777777\n"
          ]
        }
      ],
      "source": [
        "net.train(False)\n",
        "runninig_correct = 0\n",
        "num_of_tests = 0\n",
        "for data in testloader:\n",
        "    labels, inputs, offsets = data\n",
        "    labels = labels.to(device)\n",
        "    inputs = inputs.to(device)\n",
        "    offsets = offsets.to(device)\n",
        "    output = net(inputs, offsets)\n",
        "    _, predicted = torch.max(output, 1)\n",
        "\n",
        "\n",
        "    runninig_correct += int(torch.sum(predicted == labels)) / len(labels)\n",
        "    num_of_tests += 1\n",
        "\n",
        "print(runninig_correct / num_of_tests)"
      ]
    }
  ],
  "metadata": {
    "accelerator": "GPU",
    "colab": {
      "provenance": []
    },
    "kernelspec": {
      "display_name": "Python 3",
      "name": "python3"
    },
    "language_info": {
      "name": "python"
    }
  },
  "nbformat": 4,
  "nbformat_minor": 0
}